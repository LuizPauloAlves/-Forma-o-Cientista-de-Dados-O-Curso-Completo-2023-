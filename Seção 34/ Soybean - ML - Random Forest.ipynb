{
 "cells": [
  {
   "cell_type": "code",
   "execution_count": 1,
   "id": "156e2b3a",
   "metadata": {},
   "outputs": [],
   "source": [
    "import pandas as pd\n",
    "from sklearn.model_selection import train_test_split\n",
    "from sklearn.metrics import confusion_matrix, accuracy_score\n",
    "from sklearn.compose import make_column_transformer\n",
    "from sklearn.preprocessing import LabelEncoder, OneHotEncoder\n",
    "from sklearn.preprocessing import StandardScaler\n",
    "#biblioteca para Random Forest\n",
    "from sklearn.ensemble import RandomForestClassifier"
   ]
  },
  {
   "cell_type": "code",
   "execution_count": 2,
   "id": "bfd2a0ec",
   "metadata": {},
   "outputs": [],
   "source": [
    "dataSoybean = pd.read_csv('soybean.csv')\n",
    "atributos = dataSoybean.iloc[:,0:35].values\n",
    "classes = dataSoybean.iloc[:, 35].values\n",
    "labelencoder = LabelEncoder()\n",
    "\n",
    "for x in range(35):\n",
    "    atributos[:, x] = labelencoder.fit_transform(atributos[:, x])\n",
    "\n",
    "labelencoder_classes = LabelEncoder()\n",
    "classes = labelencoder_classes.fit_transform(classes)\n",
    "\n",
    "atributos_treinamento, atributos_teste, classes_treinamento, classes_teste = train_test_split(atributos, classes, test_size = 0.3, random_state = 0)"
   ]
  },
  {
   "cell_type": "code",
   "execution_count": 3,
   "id": "3bfad5f1",
   "metadata": {},
   "outputs": [
    {
     "data": {
      "text/plain": [
       "[DecisionTreeClassifier(max_features='sqrt', random_state=1742284780),\n",
       " DecisionTreeClassifier(max_features='sqrt', random_state=1255756611),\n",
       " DecisionTreeClassifier(max_features='sqrt', random_state=1382144731),\n",
       " DecisionTreeClassifier(max_features='sqrt', random_state=805450858),\n",
       " DecisionTreeClassifier(max_features='sqrt', random_state=154228492),\n",
       " DecisionTreeClassifier(max_features='sqrt', random_state=2096732312),\n",
       " DecisionTreeClassifier(max_features='sqrt', random_state=1398350138),\n",
       " DecisionTreeClassifier(max_features='sqrt', random_state=1729708015),\n",
       " DecisionTreeClassifier(max_features='sqrt', random_state=1806513347),\n",
       " DecisionTreeClassifier(max_features='sqrt', random_state=1225642275),\n",
       " DecisionTreeClassifier(max_features='sqrt', random_state=1617226275),\n",
       " DecisionTreeClassifier(max_features='sqrt', random_state=1144328623),\n",
       " DecisionTreeClassifier(max_features='sqrt', random_state=1995460594),\n",
       " DecisionTreeClassifier(max_features='sqrt', random_state=1547672623),\n",
       " DecisionTreeClassifier(max_features='sqrt', random_state=209880339),\n",
       " DecisionTreeClassifier(max_features='sqrt', random_state=1594576200),\n",
       " DecisionTreeClassifier(max_features='sqrt', random_state=436818904),\n",
       " DecisionTreeClassifier(max_features='sqrt', random_state=720632038),\n",
       " DecisionTreeClassifier(max_features='sqrt', random_state=1607330012),\n",
       " DecisionTreeClassifier(max_features='sqrt', random_state=146459516),\n",
       " DecisionTreeClassifier(max_features='sqrt', random_state=451670917),\n",
       " DecisionTreeClassifier(max_features='sqrt', random_state=802692352),\n",
       " DecisionTreeClassifier(max_features='sqrt', random_state=1026275097),\n",
       " DecisionTreeClassifier(max_features='sqrt', random_state=1275188221),\n",
       " DecisionTreeClassifier(max_features='sqrt', random_state=2106211671),\n",
       " DecisionTreeClassifier(max_features='sqrt', random_state=1651071299),\n",
       " DecisionTreeClassifier(max_features='sqrt', random_state=1670516747),\n",
       " DecisionTreeClassifier(max_features='sqrt', random_state=344558116),\n",
       " DecisionTreeClassifier(max_features='sqrt', random_state=1899041816),\n",
       " DecisionTreeClassifier(max_features='sqrt', random_state=1067220999),\n",
       " DecisionTreeClassifier(max_features='sqrt', random_state=1756357914),\n",
       " DecisionTreeClassifier(max_features='sqrt', random_state=1629887649),\n",
       " DecisionTreeClassifier(max_features='sqrt', random_state=1994115745),\n",
       " DecisionTreeClassifier(max_features='sqrt', random_state=1084585949),\n",
       " DecisionTreeClassifier(max_features='sqrt', random_state=792221712),\n",
       " DecisionTreeClassifier(max_features='sqrt', random_state=840881454),\n",
       " DecisionTreeClassifier(max_features='sqrt', random_state=597319497),\n",
       " DecisionTreeClassifier(max_features='sqrt', random_state=1048830283),\n",
       " DecisionTreeClassifier(max_features='sqrt', random_state=1780507472),\n",
       " DecisionTreeClassifier(max_features='sqrt', random_state=319579625),\n",
       " DecisionTreeClassifier(max_features='sqrt', random_state=1664771998),\n",
       " DecisionTreeClassifier(max_features='sqrt', random_state=2116901853),\n",
       " DecisionTreeClassifier(max_features='sqrt', random_state=1879072734),\n",
       " DecisionTreeClassifier(max_features='sqrt', random_state=1026611235),\n",
       " DecisionTreeClassifier(max_features='sqrt', random_state=4456904),\n",
       " DecisionTreeClassifier(max_features='sqrt', random_state=1125861968),\n",
       " DecisionTreeClassifier(max_features='sqrt', random_state=226807221),\n",
       " DecisionTreeClassifier(max_features='sqrt', random_state=1494239731),\n",
       " DecisionTreeClassifier(max_features='sqrt', random_state=1995952453),\n",
       " DecisionTreeClassifier(max_features='sqrt', random_state=1275998917),\n",
       " DecisionTreeClassifier(max_features='sqrt', random_state=393200238),\n",
       " DecisionTreeClassifier(max_features='sqrt', random_state=337527571),\n",
       " DecisionTreeClassifier(max_features='sqrt', random_state=1860933581),\n",
       " DecisionTreeClassifier(max_features='sqrt', random_state=1714317617),\n",
       " DecisionTreeClassifier(max_features='sqrt', random_state=150125234),\n",
       " DecisionTreeClassifier(max_features='sqrt', random_state=514868800),\n",
       " DecisionTreeClassifier(max_features='sqrt', random_state=1851272005),\n",
       " DecisionTreeClassifier(max_features='sqrt', random_state=436409089),\n",
       " DecisionTreeClassifier(max_features='sqrt', random_state=445764906),\n",
       " DecisionTreeClassifier(max_features='sqrt', random_state=1064166921),\n",
       " DecisionTreeClassifier(max_features='sqrt', random_state=1470449422),\n",
       " DecisionTreeClassifier(max_features='sqrt', random_state=926760593),\n",
       " DecisionTreeClassifier(max_features='sqrt', random_state=1544536504),\n",
       " DecisionTreeClassifier(max_features='sqrt', random_state=2111698599),\n",
       " DecisionTreeClassifier(max_features='sqrt', random_state=144933619),\n",
       " DecisionTreeClassifier(max_features='sqrt', random_state=981342766),\n",
       " DecisionTreeClassifier(max_features='sqrt', random_state=1733211836),\n",
       " DecisionTreeClassifier(max_features='sqrt', random_state=1265170887),\n",
       " DecisionTreeClassifier(max_features='sqrt', random_state=138237588),\n",
       " DecisionTreeClassifier(max_features='sqrt', random_state=1901546452),\n",
       " DecisionTreeClassifier(max_features='sqrt', random_state=1280977134),\n",
       " DecisionTreeClassifier(max_features='sqrt', random_state=1962617396),\n",
       " DecisionTreeClassifier(max_features='sqrt', random_state=307502437),\n",
       " DecisionTreeClassifier(max_features='sqrt', random_state=998262790),\n",
       " DecisionTreeClassifier(max_features='sqrt', random_state=705760606),\n",
       " DecisionTreeClassifier(max_features='sqrt', random_state=1095036063),\n",
       " DecisionTreeClassifier(max_features='sqrt', random_state=1451774473),\n",
       " DecisionTreeClassifier(max_features='sqrt', random_state=1929495887),\n",
       " DecisionTreeClassifier(max_features='sqrt', random_state=189011169),\n",
       " DecisionTreeClassifier(max_features='sqrt', random_state=1764495029),\n",
       " DecisionTreeClassifier(max_features='sqrt', random_state=41430144),\n",
       " DecisionTreeClassifier(max_features='sqrt', random_state=1212150915),\n",
       " DecisionTreeClassifier(max_features='sqrt', random_state=1278407205),\n",
       " DecisionTreeClassifier(max_features='sqrt', random_state=1062459480),\n",
       " DecisionTreeClassifier(max_features='sqrt', random_state=1199950099),\n",
       " DecisionTreeClassifier(max_features='sqrt', random_state=753306787),\n",
       " DecisionTreeClassifier(max_features='sqrt', random_state=2009293390),\n",
       " DecisionTreeClassifier(max_features='sqrt', random_state=1013684566),\n",
       " DecisionTreeClassifier(max_features='sqrt', random_state=2128855806),\n",
       " DecisionTreeClassifier(max_features='sqrt', random_state=1155820393),\n",
       " DecisionTreeClassifier(max_features='sqrt', random_state=1774639966),\n",
       " DecisionTreeClassifier(max_features='sqrt', random_state=399011664),\n",
       " DecisionTreeClassifier(max_features='sqrt', random_state=873160055),\n",
       " DecisionTreeClassifier(max_features='sqrt', random_state=1048201580),\n",
       " DecisionTreeClassifier(max_features='sqrt', random_state=1343791234),\n",
       " DecisionTreeClassifier(max_features='sqrt', random_state=841439321),\n",
       " DecisionTreeClassifier(max_features='sqrt', random_state=782898096),\n",
       " DecisionTreeClassifier(max_features='sqrt', random_state=1068986667),\n",
       " DecisionTreeClassifier(max_features='sqrt', random_state=1342139614),\n",
       " DecisionTreeClassifier(max_features='sqrt', random_state=755845380)]"
      ]
     },
     "execution_count": 3,
     "metadata": {},
     "output_type": "execute_result"
    }
   ],
   "source": [
    "floresta = RandomForestClassifier(n_estimators = 100)\n",
    "floresta.fit(atributos_treinamento, classes_treinamento)\n",
    "floresta.estimators_"
   ]
  },
  {
   "cell_type": "code",
   "execution_count": 4,
   "id": "fa64e9fe",
   "metadata": {},
   "outputs": [
    {
     "data": {
      "text/plain": [
       "0.9512195121951219"
      ]
     },
     "execution_count": 4,
     "metadata": {},
     "output_type": "execute_result"
    }
   ],
   "source": [
    "previsoes = floresta.predict(atributos_teste)\n",
    "\n",
    "taxa_acerto = accuracy_score(classes_teste, previsoes)\n",
    "taxa_acerto"
   ]
  }
 ],
 "metadata": {
  "kernelspec": {
   "display_name": "Python 3 (ipykernel)",
   "language": "python",
   "name": "python3"
  },
  "language_info": {
   "codemirror_mode": {
    "name": "ipython",
    "version": 3
   },
   "file_extension": ".py",
   "mimetype": "text/x-python",
   "name": "python",
   "nbconvert_exporter": "python",
   "pygments_lexer": "ipython3",
   "version": "3.10.9"
  }
 },
 "nbformat": 4,
 "nbformat_minor": 5
}
