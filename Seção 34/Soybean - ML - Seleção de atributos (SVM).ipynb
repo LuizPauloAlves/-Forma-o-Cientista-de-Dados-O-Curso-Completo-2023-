{
 "cells": [
  {
   "cell_type": "code",
   "execution_count": 1,
   "id": "86a655fe",
   "metadata": {},
   "outputs": [],
   "source": [
    "import pandas as pd\n",
    "from sklearn.model_selection import train_test_split\n",
    "from sklearn.metrics import confusion_matrix, accuracy_score\n",
    "from sklearn.compose import make_column_transformer\n",
    "from sklearn.preprocessing import LabelEncoder, OneHotEncoder\n",
    "from sklearn.preprocessing import StandardScaler\n",
    "#biblioteca para seleção de atributos\n",
    "from sklearn.svm import SVC\n",
    "from sklearn.ensemble import ExtraTreesClassifier"
   ]
  },
  {
   "cell_type": "code",
   "execution_count": 2,
   "id": "f53d0fba",
   "metadata": {},
   "outputs": [],
   "source": [
    "dataSoybean = pd.read_csv('soybean.csv')\n",
    "atributos = dataSoybean.iloc[:,0:35].values\n",
    "classes = dataSoybean.iloc[:, 35].values"
   ]
  },
  {
   "cell_type": "code",
   "execution_count": 3,
   "id": "c5510405",
   "metadata": {},
   "outputs": [],
   "source": [
    "labelencoder = LabelEncoder()\n",
    "\n",
    "for x in range(35):\n",
    "    atributos[:, x] = labelencoder.fit_transform(atributos[:, x])\n",
    "\n",
    "onehotencoder = make_column_transformer((OneHotEncoder(categories='auto', sparse_output=False), [1]), remainder=\"passthrough\")\n",
    "atributos = onehotencoder.fit_transform(atributos)"
   ]
  },
  {
   "cell_type": "code",
   "execution_count": 4,
   "id": "658660d5",
   "metadata": {},
   "outputs": [],
   "source": [
    "labelencoder_classes = LabelEncoder()\n",
    "classes = labelencoder_classes.fit_transform(classes)"
   ]
  },
  {
   "cell_type": "code",
   "execution_count": 5,
   "id": "b95f2446",
   "metadata": {},
   "outputs": [
    {
     "data": {
      "text/html": [
       "<style>#sk-container-id-1 {color: black;background-color: white;}#sk-container-id-1 pre{padding: 0;}#sk-container-id-1 div.sk-toggleable {background-color: white;}#sk-container-id-1 label.sk-toggleable__label {cursor: pointer;display: block;width: 100%;margin-bottom: 0;padding: 0.3em;box-sizing: border-box;text-align: center;}#sk-container-id-1 label.sk-toggleable__label-arrow:before {content: \"▸\";float: left;margin-right: 0.25em;color: #696969;}#sk-container-id-1 label.sk-toggleable__label-arrow:hover:before {color: black;}#sk-container-id-1 div.sk-estimator:hover label.sk-toggleable__label-arrow:before {color: black;}#sk-container-id-1 div.sk-toggleable__content {max-height: 0;max-width: 0;overflow: hidden;text-align: left;background-color: #f0f8ff;}#sk-container-id-1 div.sk-toggleable__content pre {margin: 0.2em;color: black;border-radius: 0.25em;background-color: #f0f8ff;}#sk-container-id-1 input.sk-toggleable__control:checked~div.sk-toggleable__content {max-height: 200px;max-width: 100%;overflow: auto;}#sk-container-id-1 input.sk-toggleable__control:checked~label.sk-toggleable__label-arrow:before {content: \"▾\";}#sk-container-id-1 div.sk-estimator input.sk-toggleable__control:checked~label.sk-toggleable__label {background-color: #d4ebff;}#sk-container-id-1 div.sk-label input.sk-toggleable__control:checked~label.sk-toggleable__label {background-color: #d4ebff;}#sk-container-id-1 input.sk-hidden--visually {border: 0;clip: rect(1px 1px 1px 1px);clip: rect(1px, 1px, 1px, 1px);height: 1px;margin: -1px;overflow: hidden;padding: 0;position: absolute;width: 1px;}#sk-container-id-1 div.sk-estimator {font-family: monospace;background-color: #f0f8ff;border: 1px dotted black;border-radius: 0.25em;box-sizing: border-box;margin-bottom: 0.5em;}#sk-container-id-1 div.sk-estimator:hover {background-color: #d4ebff;}#sk-container-id-1 div.sk-parallel-item::after {content: \"\";width: 100%;border-bottom: 1px solid gray;flex-grow: 1;}#sk-container-id-1 div.sk-label:hover label.sk-toggleable__label {background-color: #d4ebff;}#sk-container-id-1 div.sk-serial::before {content: \"\";position: absolute;border-left: 1px solid gray;box-sizing: border-box;top: 0;bottom: 0;left: 50%;z-index: 0;}#sk-container-id-1 div.sk-serial {display: flex;flex-direction: column;align-items: center;background-color: white;padding-right: 0.2em;padding-left: 0.2em;position: relative;}#sk-container-id-1 div.sk-item {position: relative;z-index: 1;}#sk-container-id-1 div.sk-parallel {display: flex;align-items: stretch;justify-content: center;background-color: white;position: relative;}#sk-container-id-1 div.sk-item::before, #sk-container-id-1 div.sk-parallel-item::before {content: \"\";position: absolute;border-left: 1px solid gray;box-sizing: border-box;top: 0;bottom: 0;left: 50%;z-index: -1;}#sk-container-id-1 div.sk-parallel-item {display: flex;flex-direction: column;z-index: 1;position: relative;background-color: white;}#sk-container-id-1 div.sk-parallel-item:first-child::after {align-self: flex-end;width: 50%;}#sk-container-id-1 div.sk-parallel-item:last-child::after {align-self: flex-start;width: 50%;}#sk-container-id-1 div.sk-parallel-item:only-child::after {width: 0;}#sk-container-id-1 div.sk-dashed-wrapped {border: 1px dashed gray;margin: 0 0.4em 0.5em 0.4em;box-sizing: border-box;padding-bottom: 0.4em;background-color: white;}#sk-container-id-1 div.sk-label label {font-family: monospace;font-weight: bold;display: inline-block;line-height: 1.2em;}#sk-container-id-1 div.sk-label-container {text-align: center;}#sk-container-id-1 div.sk-container {/* jupyter's `normalize.less` sets `[hidden] { display: none; }` but bootstrap.min.css set `[hidden] { display: none !important; }` so we also need the `!important` here to be able to override the default hidden behavior on the sphinx rendered scikit-learn.org. See: https://github.com/scikit-learn/scikit-learn/issues/21755 */display: inline-block !important;position: relative;}#sk-container-id-1 div.sk-text-repr-fallback {display: none;}</style><div id=\"sk-container-id-1\" class=\"sk-top-container\"><div class=\"sk-text-repr-fallback\"><pre>SVC()</pre><b>In a Jupyter environment, please rerun this cell to show the HTML representation or trust the notebook. <br />On GitHub, the HTML representation is unable to render, please try loading this page with nbviewer.org.</b></div><div class=\"sk-container\" hidden><div class=\"sk-item\"><div class=\"sk-estimator sk-toggleable\"><input class=\"sk-toggleable__control sk-hidden--visually\" id=\"sk-estimator-id-1\" type=\"checkbox\" checked><label for=\"sk-estimator-id-1\" class=\"sk-toggleable__label sk-toggleable__label-arrow\">SVC</label><div class=\"sk-toggleable__content\"><pre>SVC()</pre></div></div></div></div></div>"
      ],
      "text/plain": [
       "SVC()"
      ]
     },
     "execution_count": 5,
     "metadata": {},
     "output_type": "execute_result"
    }
   ],
   "source": [
    "atributos_treinamento, atributos_teste, classes_treinamento, classes_teste = train_test_split(atributos, classes, test_size = 0.3, random_state = 0)\n",
    "\n",
    "svm = SVC()\n",
    "svm.fit(atributos_treinamento, classes_treinamento)\n",
    "\n"
   ]
  },
  {
   "cell_type": "code",
   "execution_count": 6,
   "id": "c34db8b9",
   "metadata": {},
   "outputs": [
    {
     "data": {
      "text/plain": [
       "0.8341463414634146"
      ]
     },
     "execution_count": 6,
     "metadata": {},
     "output_type": "execute_result"
    }
   ],
   "source": [
    "previsoes = svm.predict(atributos_teste)\n",
    "\n",
    "confusao = confusion_matrix(classes_teste, previsoes)\n",
    "\n",
    "taxa_acerto = accuracy_score(classes_teste, previsoes)\n",
    "taxa_acerto"
   ]
  },
  {
   "cell_type": "code",
   "execution_count": 7,
   "id": "ce0a460e",
   "metadata": {},
   "outputs": [
    {
     "data": {
      "text/plain": [
       "array([0.00347324, 0.01544273, 0.01020217, 0.04395691, 0.03025448,\n",
       "       0.02571938, 0.02121216, 0.0195314 , 0.02432539, 0.02894018,\n",
       "       0.02004677, 0.01373447, 0.02826001, 0.02039359, 0.03831234,\n",
       "       0.05193927, 0.04880096, 0.02838201, 0.01723982, 0.04043625,\n",
       "       0.02668611, 0.01273182, 0.03567266, 0.040474  , 0.03189678,\n",
       "       0.03624408, 0.00810265, 0.03858432, 0.0160518 , 0.0619196 ,\n",
       "       0.0378828 , 0.02977506, 0.02784389, 0.01937015, 0.01684599,\n",
       "       0.00872447, 0.02059029])"
      ]
     },
     "execution_count": 7,
     "metadata": {},
     "output_type": "execute_result"
    }
   ],
   "source": [
    "forest = ExtraTreesClassifier()\n",
    "forest.fit(atributos_treinamento, classes_treinamento)\n",
    "importancias = forest.feature_importances_\n",
    "importancias"
   ]
  },
  {
   "cell_type": "code",
   "execution_count": 8,
   "id": "b9f382a3",
   "metadata": {},
   "outputs": [
    {
     "data": {
      "text/plain": [
       "(478, 12)"
      ]
     },
     "execution_count": 8,
     "metadata": {},
     "output_type": "execute_result"
    }
   ],
   "source": [
    "atributos_treinamento2 = atributos_treinamento[:,[3, 4, 14, 15, 16, 19, 22, 23, 24, 27, 29, 30]]\n",
    "atributos_teste2 = atributos_teste[:,[3, 4, 14, 15, 16, 19, 22, 23, 24, 27, 29, 30]]\n",
    "atributos_treinamento2.shape"
   ]
  },
  {
   "cell_type": "code",
   "execution_count": 9,
   "id": "ff3e6ac0",
   "metadata": {},
   "outputs": [
    {
     "data": {
      "text/plain": [
       "0.8195121951219512"
      ]
     },
     "execution_count": 9,
     "metadata": {},
     "output_type": "execute_result"
    }
   ],
   "source": [
    "svm2 = SVC()\n",
    "svm2.fit(atributos_treinamento2, classes_treinamento)\n",
    "previsoes2 = svm2.predict(atributos_teste2)\n",
    "taxa_acerto = accuracy_score(classes_teste, previsoes2)\n",
    "taxa_acerto"
   ]
  },
  {
   "cell_type": "code",
   "execution_count": 10,
   "id": "3cc327bd",
   "metadata": {},
   "outputs": [],
   "source": [
    "atributos_treinamento3 = atributos_treinamento[:,[3, 16, 23, 29]]\n",
    "atributos_teste3 = atributos_teste[:,[3, 16, 23, 29]]"
   ]
  },
  {
   "cell_type": "code",
   "execution_count": 11,
   "id": "a572d955",
   "metadata": {},
   "outputs": [
    {
     "data": {
      "text/plain": [
       "0.6634146341463415"
      ]
     },
     "execution_count": 11,
     "metadata": {},
     "output_type": "execute_result"
    }
   ],
   "source": [
    "svm3 = SVC()\n",
    "svm3.fit(atributos_treinamento3, classes_treinamento)\n",
    "previsoes3 = svm3.predict(atributos_teste3)\n",
    "taxa_acerto = accuracy_score(classes_teste, previsoes3)\n",
    "taxa_acerto"
   ]
  }
 ],
 "metadata": {
  "kernelspec": {
   "display_name": "Python 3 (ipykernel)",
   "language": "python",
   "name": "python3"
  },
  "language_info": {
   "codemirror_mode": {
    "name": "ipython",
    "version": 3
   },
   "file_extension": ".py",
   "mimetype": "text/x-python",
   "name": "python",
   "nbconvert_exporter": "python",
   "pygments_lexer": "ipython3",
   "version": "3.10.9"
  }
 },
 "nbformat": 4,
 "nbformat_minor": 5
}
